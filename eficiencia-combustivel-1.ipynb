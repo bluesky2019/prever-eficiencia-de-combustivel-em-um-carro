import numpy as np
from sklearn.linear_model import LinearRegression

# Dados de recursos (quilômetros em 1.000)
X = np.array([[3.5], [3.69], [3.44], [3.43], [4.34], [4.42], [2.37]])

# Rótulos (quilômetros por galão)
y = np.array([18, 15, 18, 16, 15, 14, 24])

# Criar o modelo de regressão linear
modelo = LinearRegression()

# Treinar o modelo
modelo.fit(X, y)

# Fazer uma previsão para um novo peso (por exemplo, 4.000 km)
novo_peso = np.array([[4.0]])
previsao = modelo.predict(novo_peso)

print(f"A previsão de quilômetros por galão para um carro com 4.000 km é: {previsao[0]:.2f}")

# Você também pode ver os coeficientes do modelo
print(f"Coeficiente angular (slope): {modelo.coef_[0]:.2f}")
print(f"Intercepto: {modelo.intercept_:.2f}")
